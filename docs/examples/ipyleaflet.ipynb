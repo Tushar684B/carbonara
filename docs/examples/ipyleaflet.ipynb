{
 "cells": [
  {
   "cell_type": "code",
   "execution_count": 1,
   "metadata": {},
   "outputs": [
    {
     "data": {
      "application/vnd.jupyter.widget-view+json": {
       "model_id": "c30ffb9103f6421fad95b9b614eb1ddb",
       "version_major": 2,
       "version_minor": 0
      },
      "text/plain": [
       "Map(center=[52.204793, 360.121558], controls=(ZoomControl(options=['position', 'zoom_in_text', 'zoom_in_title'…"
      ]
     },
     "metadata": {},
     "output_type": "display_data"
    }
   ],
   "source": [
    "from ipyleaflet import Map, Marker\n",
    "\n",
    "center = (52.204793, 360.121558)\n",
    "\n",
    "m = Map(center=center, zoom=15)\n",
    "\n",
    "marker = Marker(location=center, draggable=True)\n",
    "m.add(marker)\n",
    "\n",
    "display(m)\n",
    "\n",
    "# Now that the marker is on the Map, you can drag it with your mouse,\n",
    "# it will automatically update the `marker.location` attribute in Python\n",
    "\n",
    "# You can also update the marker location from Python, that will update the\n",
    "# marker location on the Map:\n",
    "marker.location = (50, 356)"
   ]
  },
  {
   "cell_type": "code",
   "execution_count": 2,
   "metadata": {},
   "outputs": [
    {
     "data": {
      "application/vnd.jupyter.widget-view+json": {
       "model_id": "668fdf8c0c4f41a7823a423a21f363da",
       "version_major": 2,
       "version_minor": 0
      },
      "text/plain": [
       "Map(center=[10, 10], controls=(ZoomControl(options=['position', 'zoom_in_text', 'zoom_in_title', 'zoom_out_tex…"
      ]
     },
     "execution_count": 2,
     "metadata": {},
     "output_type": "execute_result"
    }
   ],
   "source": [
    "import ipyleaflet\n",
    "m = ipyleaflet.Map(center = (10,10),zoom = 10)\n",
    "m.scroll_wheel_zoom = True\n",
    "m"
   ]
  },
  {
   "cell_type": "code",
   "execution_count": null,
   "metadata": {},
   "outputs": [],
   "source": []
  },
  {
   "cell_type": "code",
   "execution_count": null,
   "metadata": {},
   "outputs": [],
   "source": [
    "import carbonarr\n",
    "m = carbonarr.Map()\n",
    "m.scroll_wheel_zoom = True\n",
    "m"
   ]
  },
  {
   "cell_type": "code",
   "execution_count": null,
   "metadata": {},
   "outputs": [],
   "source": []
  },
  {
   "cell_type": "code",
   "execution_count": null,
   "metadata": {},
   "outputs": [],
   "source": []
  }
 ],
 "metadata": {
  "kernelspec": {
   "display_name": "geo",
   "language": "python",
   "name": "python3"
  },
  "language_info": {
   "codemirror_mode": {
    "name": "ipython",
    "version": 3
   },
   "file_extension": ".py",
   "mimetype": "text/x-python",
   "name": "python",
   "nbconvert_exporter": "python",
   "pygments_lexer": "ipython3",
   "version": "3.11.8"
  }
 },
 "nbformat": 4,
 "nbformat_minor": 2
}
