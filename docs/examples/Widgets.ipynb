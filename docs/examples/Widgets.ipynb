{
 "cells": [
  {
   "cell_type": "code",
   "execution_count": 1,
   "id": "a387dde8-f518-44fa-b09e-7073f3b04ce0",
   "metadata": {},
   "outputs": [],
   "source": [
    "import carbonarr\n",
    "import ipywidgets as widgets"
   ]
  },
  {
   "cell_type": "code",
   "execution_count": 17,
   "id": "c7318753-c671-4d90-8874-c03ffff87ccd",
   "metadata": {},
   "outputs": [
    {
     "data": {
      "application/vnd.jupyter.widget-view+json": {
       "model_id": "e7ce8a92b9ae495fa455ac0bec5a89b6",
       "version_major": 2,
       "version_minor": 0
      },
      "text/plain": [
       "Map(center=[27.48, 77.3], controls=(ZoomControl(options=['position', 'zoom_in_text', 'zoom_in_title', 'zoom_ou…"
      ]
     },
     "execution_count": 17,
     "metadata": {},
     "output_type": "execute_result"
    }
   ],
   "source": [
    "m = carbonarr.Map()\n",
    "wi = widgets.ToggleButton(\n",
    "    value=False,\n",
    "    description='Click me',\n",
    "    disabled=False,\n",
    "    button_style=''\n",
    "    , # 'success', 'info', 'warning', 'danger' or ''\n",
    "    tooltip='Description',\n",
    "    icon='check' # (FontAwesome names without the `fa-` prefix)\n",
    ")\n",
    "m.add_widget(widget = wi)\n",
    "m"
   ]
  },
  {
   "cell_type": "code",
   "execution_count": 19,
   "id": "48d53a81-2b3c-4289-bead-86d7f6fcd43a",
   "metadata": {},
   "outputs": [],
   "source": [
    "wi2 = widgets.Checkbox(\n",
    "    value=False,\n",
    "    description='Check me',\n",
    "    disabled=False,\n",
    "    indent=True\n",
    ")\n",
    "\n",
    "m.add_widget(widget = wi2)"
   ]
  },
  {
   "cell_type": "code",
   "execution_count": null,
   "id": "4018f6d1-26ab-4e71-84a7-424000d62839",
   "metadata": {},
   "outputs": [],
   "source": []
  }
 ],
 "metadata": {
  "kernelspec": {
   "display_name": "Python 3 (ipykernel)",
   "language": "python",
   "name": "python3"
  },
  "language_info": {
   "codemirror_mode": {
    "name": "ipython",
    "version": 3
   },
   "file_extension": ".py",
   "mimetype": "text/x-python",
   "name": "python",
   "nbconvert_exporter": "python",
   "pygments_lexer": "ipython3",
   "version": "3.11.8"
  }
 },
 "nbformat": 4,
 "nbformat_minor": 5
}
