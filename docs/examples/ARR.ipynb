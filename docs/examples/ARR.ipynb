{
 "cells": [
  {
   "cell_type": "code",
   "execution_count": 5,
   "metadata": {},
   "outputs": [
    {
     "data": {
      "application/vnd.jupyter.widget-view+json": {
       "model_id": "a63719855faf46c7a76cc0577bf5dc85",
       "version_major": 2,
       "version_minor": 0
      },
      "text/plain": [
       "Map(center=[27.48, 77.3], controls=(ZoomControl(options=['position', 'zoom_in_text', 'zoom_in_title', 'zoom_ou…"
      ]
     },
     "execution_count": 5,
     "metadata": {},
     "output_type": "execute_result"
    }
   ],
   "source": [
    "import carbonarr\n",
    "my_map = carbonarr.Map()\n",
    "# Create a map instance\n",
    "# my_map = Map()\n",
    "\n",
    "# Create an ARR instance with the map\n",
    "arr = carbonarr.ARR(my_map)\n",
    "\n",
    "# Show LULC maps for 2021 and 2023\n",
    "arr.show_lulc_maps()\n",
    "my_map.scroll_wheel_zoom = True\n",
    "# Display the map\n",
    "my_map"
   ]
  },
  {
   "cell_type": "code",
   "execution_count": 2,
   "metadata": {},
   "outputs": [],
   "source": [
    "# https://earthengine.googleapis.com/v1/projects/earthengine-legacy/maps/c56276175735dbec21f8d63f41a3777c-2d7922d70c37127aea93b2956d4399ac/tiles/{{z}}/{{y}}/{{x}}"
   ]
  },
  {
   "cell_type": "code",
   "execution_count": 3,
   "metadata": {},
   "outputs": [
    {
     "data": {
      "text/plain": [
       "<carbonarr.carbonarr.ARR at 0x1121d84d0>"
      ]
     },
     "execution_count": 3,
     "metadata": {},
     "output_type": "execute_result"
    }
   ],
   "source": []
  },
  {
   "cell_type": "code",
   "execution_count": 4,
   "metadata": {},
   "outputs": [
    {
     "data": {
      "application/vnd.jupyter.widget-view+json": {
       "model_id": "187997fdc1ca4db2a0a1972a34c362d4",
       "version_major": 2,
       "version_minor": 0
      },
      "text/plain": [
       "Map(bottom=27728.0, center=[27.647039394312074, 77.8271484375], controls=(ZoomControl(options=['position', 'zo…"
      ]
     },
     "execution_count": 4,
     "metadata": {},
     "output_type": "execute_result"
    }
   ],
   "source": []
  },
  {
   "cell_type": "code",
   "execution_count": null,
   "metadata": {},
   "outputs": [],
   "source": []
  }
 ],
 "metadata": {
  "kernelspec": {
   "display_name": "geo",
   "language": "python",
   "name": "python3"
  },
  "language_info": {
   "codemirror_mode": {
    "name": "ipython",
    "version": 3
   },
   "file_extension": ".py",
   "mimetype": "text/x-python",
   "name": "python",
   "nbconvert_exporter": "python",
   "pygments_lexer": "ipython3",
   "version": "3.11.8"
  }
 },
 "nbformat": 4,
 "nbformat_minor": 2
}
