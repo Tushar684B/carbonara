{
 "cells": [
  {
   "cell_type": "code",
   "execution_count": 6,
   "metadata": {},
   "outputs": [],
   "source": [
    "import carbonarr\n",
    "m = carbonarr.Map()\n",
    "m.add_basemap('OpenTopoMap')\n",
    "m.add_layers_control()\n",
    "m.add_geojson_layer(filepath='europe_110.geo.json',name='parcels')\n",
    "m.scroll_wheel_zoom = True\n",
    "# m.add_geojson_layer('europe_110.geo.json','europe')\n",
    "style = {\n",
    "    'opacity':0.8,'dashArray':'1','fillOpacity':0.1,'weight':1\n",
    "}\n",
    "hover_style = {\n",
    "    'color':'white','dashArray':'9','fillOpacity':1\n",
    "    \n",
    "}\n",
    "import random\n",
    "def random_color(feature):\n",
    "    return {\n",
    "        'color': 'black',\n",
    "        'fillColor': random.choice(['red', 'yellow', 'green', 'orange']),\n",
    "    }\n",
    "m.add_shapefile_layer('10 Parcels/Parcels.shp',name = 'shapefile',style = style, hover_style = hover_style,\n",
    "    style_callback=random_color)\n",
    "m"
   ]
  },
  {
   "cell_type": "code",
   "execution_count": 8,
   "metadata": {},
   "outputs": [
    {
     "ename": "NameError",
     "evalue": "name 'm' is not defined",
     "output_type": "error",
     "traceback": [
      "\u001b[0;31m---------------------------------------------------------------------------\u001b[0m",
      "\u001b[0;31mNameError\u001b[0m                                 Traceback (most recent call last)",
      "Cell \u001b[0;32mIn[8], line 28\u001b[0m\n\u001b[1;32m     22\u001b[0m \u001b[38;5;28;01mdef\u001b[39;00m \u001b[38;5;21mrandom_color\u001b[39m(feature):\n\u001b[1;32m     23\u001b[0m     \u001b[38;5;28;01mreturn\u001b[39;00m {\n\u001b[1;32m     24\u001b[0m         \u001b[38;5;124m'\u001b[39m\u001b[38;5;124mcolor\u001b[39m\u001b[38;5;124m'\u001b[39m: \u001b[38;5;124m'\u001b[39m\u001b[38;5;124mblack\u001b[39m\u001b[38;5;124m'\u001b[39m,\n\u001b[1;32m     25\u001b[0m         \u001b[38;5;124m'\u001b[39m\u001b[38;5;124mfillColor\u001b[39m\u001b[38;5;124m'\u001b[39m: random\u001b[38;5;241m.\u001b[39mchoice([\u001b[38;5;124m'\u001b[39m\u001b[38;5;124mred\u001b[39m\u001b[38;5;124m'\u001b[39m, \u001b[38;5;124m'\u001b[39m\u001b[38;5;124myellow\u001b[39m\u001b[38;5;124m'\u001b[39m, \u001b[38;5;124m'\u001b[39m\u001b[38;5;124mgreen\u001b[39m\u001b[38;5;124m'\u001b[39m, \u001b[38;5;124m'\u001b[39m\u001b[38;5;124morange\u001b[39m\u001b[38;5;124m'\u001b[39m]),\n\u001b[1;32m     26\u001b[0m     }\n\u001b[0;32m---> 28\u001b[0m \u001b[43mm\u001b[49m\u001b[38;5;241m.\u001b[39madd_shapefile_layer(\u001b[38;5;124m'\u001b[39m\u001b[38;5;124m10 Parcels/Parcels.shp\u001b[39m\u001b[38;5;124m'\u001b[39m,name \u001b[38;5;241m=\u001b[39m \u001b[38;5;124m'\u001b[39m\u001b[38;5;124mshapefile\u001b[39m\u001b[38;5;124m'\u001b[39m,style \u001b[38;5;241m=\u001b[39m style, hover_style \u001b[38;5;241m=\u001b[39m hover_style,\n\u001b[1;32m     29\u001b[0m     style_callback\u001b[38;5;241m=\u001b[39mrandom_color)\n\u001b[1;32m     31\u001b[0m m\n",
      "\u001b[0;31mNameError\u001b[0m: name 'm' is not defined"
     ]
    }
   ],
   "source": []
  },
  {
   "cell_type": "code",
   "execution_count": null,
   "metadata": {},
   "outputs": [],
   "source": []
  }
 ],
 "metadata": {
  "kernelspec": {
   "display_name": "geo",
   "language": "python",
   "name": "python3"
  },
  "language_info": {
   "codemirror_mode": {
    "name": "ipython",
    "version": 3
   },
   "file_extension": ".py",
   "mimetype": "text/x-python",
   "name": "python",
   "nbconvert_exporter": "python",
   "pygments_lexer": "ipython3",
   "version": "3.11.8"
  }
 },
 "nbformat": 4,
 "nbformat_minor": 2
}
