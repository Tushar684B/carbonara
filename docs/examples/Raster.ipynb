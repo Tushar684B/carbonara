{
 "cells": [
  {
   "cell_type": "code",
   "execution_count": 1,
   "id": "9c3a4e45-22da-460f-9603-1367a4f3da50",
   "metadata": {},
   "outputs": [],
   "source": [
    "import carbonarr\n"
   ]
  },
  {
   "cell_type": "code",
   "execution_count": 2,
   "id": "aa2a3b93-96a2-4ba6-afda-845dea8b1fe0",
   "metadata": {},
   "outputs": [
    {
     "name": "stderr",
     "output_type": "stream",
     "text": [
      "/opt/anaconda3/envs/geo/lib/python3.11/site-packages/rio_tiler/io/rasterio.py:130: NoOverviewWarning: The dataset has no Overviews. rio-tiler performances might be impacted.\n",
      "  warnings.warn(\n",
      "/opt/anaconda3/envs/geo/lib/python3.11/site-packages/localtileserver/widgets.py:80: UserWarning: The `band` keyword argument is deprecated. Please use `indexes` instead.\n",
      "  warnings.warn(\n"
     ]
    }
   ],
   "source": [
    "m = carbonarr.Map()\n",
    "m.add_tif_layer('Path/To/Tif',name = 'tiff raster', band=1, colormap='plasma')\n",
    "m.add_layers_control()\n"
   ]
  },
  {
   "cell_type": "code",
   "execution_count": 3,
   "id": "8e4bd4aa-d9ed-4807-a519-37a3f0e43160",
   "metadata": {},
   "outputs": [
    {
     "data": {
      "application/vnd.jupyter.widget-view+json": {
       "model_id": "a8d03cc0795a4847a4668fe617c2617d",
       "version_major": 2,
       "version_minor": 0
      },
      "text/plain": [
       "Map(center=[15.0, 0.0], controls=(ZoomControl(options=['position', 'zoom_in_text', 'zoom_in_title', 'zoom_out_…"
      ]
     },
     "execution_count": 3,
     "metadata": {},
     "output_type": "execute_result"
    }
   ],
   "source": [
    "m"
   ]
  },
  {
   "cell_type": "code",
   "execution_count": null,
   "id": "389c18b8-3d78-4d5d-8dae-ebac511d474a",
   "metadata": {},
   "outputs": [],
   "source": []
  }
 ],
 "metadata": {
  "kernelspec": {
   "display_name": "Python 3 (ipykernel)",
   "language": "python",
   "name": "python3"
  },
  "language_info": {
   "codemirror_mode": {
    "name": "ipython",
    "version": 3
   },
   "file_extension": ".py",
   "mimetype": "text/x-python",
   "name": "python",
   "nbconvert_exporter": "python",
   "pygments_lexer": "ipython3",
   "version": "3.11.8"
  }
 },
 "nbformat": 4,
 "nbformat_minor": 5
}
